{
  "nbformat": 4,
  "nbformat_minor": 0,
  "metadata": {
    "colab": {
      "provenance": [],
      "name": "sd_nwlf_2.ipynb",
      "authorship_tag": "ABX9TyPu/TP44COKR8SK3hIm8cvT",
      "include_colab_link": true
    },
    "kernelspec": {
      "name": "python3",
      "display_name": "Python 3"
    },
    "language_info": {
      "name": "python"
    },
    "accelerator": "GPU",
    "gpuClass": "standard"
  },
  "cells": [
    {
      "cell_type": "markdown",
      "metadata": {
        "id": "view-in-github",
        "colab_type": "text"
      },
      "source": [
        "<a href=\"https://colab.research.google.com/github/innightwolfsleep/A1111_for_google_collab_ipynb/blob/main/sd_nwlf_2.ipynb\" target=\"_parent\"><img src=\"https://colab.research.google.com/assets/colab-badge.svg\" alt=\"Open In Colab\"/></a>"
      ]
    },
    {
      "cell_type": "code",
      "execution_count": null,
      "metadata": {
        "id": "9DQbiOOZLTsM"
      },
      "outputs": [],
      "source": [
        "#@markdown #НАСТРОЙКА\n",
        "\n",
        "#@markdown ⚙️ Загрузить настройки с google-диска:\n",
        "Load_settings_to_google_disk = False #@param {type:\"boolean\"}\n",
        "#@markdown 🖼️Cохранять созданые изображения на google-диске:\n",
        "Save_images_to_google_disk = False #@param {type:\"boolean\"}\n",
        "#@markdown 📁Папка для StableDiffusion на google-диске:\n",
        "google_disk_path = \"SD\" #@param {type:\"string\"}\n",
        "\n",
        "OUTPUT_DIR = \"/content/stable-diffusion-webui/outputs\" \n",
        "if Save_images_to_google_disk or Load_settings_to_google_disk:\n",
        "    from google.colab import drive\n",
        "    drive.mount('/content/drive')\n",
        "    OUTPUT_DIR = \"/content/drive/MyDrive/\" + google_disk_path\n",
        "if Load_settings_to_google_disk:\n",
        "    import shutil\n",
        "    shutil.copyfile(OUTPUT_DIR + \"/styles.csv\", \"/content/stable-diffusion-webui/styles.csv\")\n",
        "    shutil.copyfile(OUTPUT_DIR + \"/params.txt\", \"/content/stable-diffusion-webui/params.txt\")\n",
        "    shutil.copyfile(OUTPUT_DIR + \"/config.json\", \"/content/stable-diffusion-webui/config.json\")\n",
        "if Save_images_to_google_disk:\n",
        "    with open(\"/content/stable-diffusion-webui/config.json\", \"r\") as fconf:\n",
        "        conf = fconf.read()\n",
        "    conf.replace(': \"outputs/', ': \"' + OUTPUT_DIR + '/' )\n",
        "    with open(\"/content/stable-diffusion-webui/config.json\", \"w\") as fconf:\n",
        "        fconf.write(conf)\n",
        "!mkdir -p $OUTPUT_DIR\n",
        "\n",
        "\n",
        "#@markdown \n",
        "\n",
        "#@markdown \n",
        "\n",
        "#@markdown #ЗАПУСК\n",
        "#@markdown 🤖Выберете модель которую будете использовать в работе:\n",
        "model = \"Anything_V3_0\" #@param [\"Protogen_V2_2\", \"SD2_inpaint\", \"SD2_1_base\", \"SD1_5_base\", \"Anything_V3_0\", \"mdjrny_v4\", \"BloodOrangeMix\", \"AbyssOrangeMix2_nsfw\"]\n",
        "\n",
        "#@markdown Нажмите иконку ▶️ слева вверху этого блока кода чтобы запустить приложение.\n",
        "\n",
        "#@markdown Дождитесь сообщения \"**Running on shared URL**\" и откройте соответсвующую ссылку.\n",
        "\n",
        "#@markdown В открывшейся веб-форме можно вводить свой запрос и кнопкой Generate создавать картинки.\n",
        "\n",
        "\n",
        "\n",
        "#INSTALL A1111 SD\n",
        "!pip install -q https://github.com/camenduru/stable-diffusion-webui-colab/releases/download/0.0.15/xformers-0.0.15+e163309.d20230103-cp38-cp38-linux_x86_64.whl\n",
        "!pip install -q --pre triton\n",
        "!git clone -b v1.6 https://github.com/camenduru/stable-diffusion-webui\n",
        "!git clone https://github.com/deforum-art/deforum-for-automatic1111-webui /content/stable-diffusion-webui/extensions/deforum-for-automatic1111-webui\n",
        "!git clone https://github.com/yfszzx/stable-diffusion-webui-images-browser /content/stable-diffusion-webui/extensions/stable-diffusion-webui-images-browser\n",
        "!git clone https://github.com/camenduru/stable-diffusion-webui-huggingface /content/stable-diffusion-webui/extensions/stable-diffusion-webui-huggingface\n",
        "!git clone https://github.com/Vetchems/sd-civitai-browser /content/stable-diffusion-webui/extensions/sd-civitai-browser\n",
        "%cd /content/stable-diffusion-webui\n",
        "\n",
        "#LOAD MODEL\n",
        "!pip install -q wget\n",
        "import wget\n",
        "if model==\"Protogen_V2_2\":\n",
        "    wget.download(\"https://huggingface.co/ckpt/Protogen_V2.2/resolve/main/Protogen_V2.2.ckpt\", \"/content/stable-diffusion-webui/models/Stable-diffusion/Protogen_V2.2.ckpt\")\n",
        "if model==\"SD2_inpaint\":\n",
        "    wget.download(\"https://huggingface.co/stabilityai/stable-diffusion-2-inpainting/resolve/main/512-inpainting-ema.ckpt\", \"/content/stable-diffusion-webui/models/Stable-diffusion/512-inpainting-ema.ckpt\")\n",
        "    wget.download(\"https://raw.githubusercontent.com/Stability-AI/stablediffusion/main/configs/stable-diffusion/v2-inpainting-inference.yaml\", \"/content/stable-diffusion-webui/models/Stable-diffusion/512-inpainting-ema.yaml\")\n",
        "if model==\"SD2_1_base\":\n",
        "    wget.download(\"https://huggingface.co/stabilityai/stable-diffusion-2-1-base/resolve/main/v2-1_512-ema-pruned.ckpt\", \"/content/stable-diffusion-webui/models/Stable-diffusion/v2-1_512-ema-pruned.ckpt\")\n",
        "    wget.download(\"https://raw.githubusercontent.com/Stability-AI/stablediffusion/main/configs/stable-diffusion/v2-inference.yaml\", \"/content/stable-diffusion-webui/models/Stable-diffusion/v2-1_512-ema-pruned.yaml\")\n",
        "if model==\"SD1_5_base\":\n",
        "    wget.download(\"https://huggingface.co/camenduru/sd15/resolve/main/v1-5-pruned-emaonly.ckpt\", \"/content/stable-diffusion-webui/models/Stable-diffusion/v1-5-pruned-emaonly.ckpt\")\n",
        "if model==\"Anything_V3_0\":\n",
        "    wget.download(\"https://huggingface.co/Linaqruf/anything-v3.0/resolve/main/Anything-V3.0.safetensors\", \"/content/stable-diffusion-webui/models/Stable-diffusion/Anything-V3.0.safetensors\")\n",
        "    wget.download(\"https://huggingface.co/Linaqruf/anything-v3.0/resolve/main/Anything-V3.0.vae.pt\", \"/content/stable-diffusion-webui/models/Stable-diffusion/Anything-V3.0-pruned.vae.pt\")\n",
        "if model==\"mdjrny_v4\":\n",
        "    wget.download(\"https://huggingface.co/prompthero/midjourney-v4-diffusion/resolve/main/mdjrny-v4.ckpt\", \"/content/stable-diffusion-webui/models/Stable-diffusion/mdjrny-v4.ckpt\")\n",
        "if model==\"BloodOrangeMix\":\n",
        "    wget.download(\"https://huggingface.co/WarriorMama777/OrangeMixs/resolve/main/Models/BloodOrangeMix/BloodOrangeMix.safetensors\", \"/content/stable-diffusion-webui/models/Stable-diffusion/BloodOrangeMix.safetensors\")\n",
        "if model==\"AbyssOrangeMix2_nsfw\":\n",
        "    wget.download(\"https://huggingface.co/WarriorMama777/OrangeMixs/resolve/main/Models/AbyssOrangeMix2/AbyssOrangeMix2_nsfw.safetensors\", \"/content/stable-diffusion-webui/models/Stable-diffusion/AbyssOrangeMix2_nsfw.safetensors\")\n",
        "\n",
        "# RUN A1111 SD\n",
        "!python launch.py --share --xformers"
      ]
    },
    {
      "cell_type": "code",
      "source": [
        "#@markdown #СОХРАНИТЬ НАСТРОЙКИ\n",
        "\n",
        "#@markdown Сохранит ваши настройки StableDiffusion на google-диске:\n",
        "\n",
        "google_disk_path = \"SD\" #@param {type:\"string\"}\n",
        "\n",
        "from google.colab import drive\n",
        "drive.mount('/content/drive')\n",
        "OUTPUT_DIR = \"/content/drive/MyDrive/\" + google_disk_path\n",
        "import shutil\n",
        "shutil.copyfile(\"/content/stable-diffusion-webui/styles.csv\", OUTPUT_DIR + \"/styles.csv\")\n",
        "shutil.copyfile(\"/content/stable-diffusion-webui/params.txt\", OUTPUT_DIR + \"/params.txt\")\n",
        "shutil.copyfile(\"/content/stable-diffusion-webui/config.json\", OUTPUT_DIR + \"/config.json\")"
      ],
      "metadata": {
        "cellView": "form",
        "id": "HI3VTR3sVx7N"
      },
      "execution_count": null,
      "outputs": []
    },
    {
      "cell_type": "markdown",
      "source": [
        "---\n",
        "#ВСПОМОГАТЕЛЬНЫЕ ФУНКЦИИ: "
      ],
      "metadata": {
        "id": "15eyzQ98LM43"
      }
    },
    {
      "cell_type": "code",
      "source": [
        "#@markdown 🖼️▶️💾 \n",
        "\n",
        "#@markdown Если вы не выставили опцию сохранения на диск и теперь жалеете об этом, тот блок кода **сохранит изображения** в архив на ваш google disk сгенерированные вами изображения.\n",
        "from google.colab import drive\n",
        "drive.mount('/content/gdrive')\n",
        "!zip -r /content/gdrive/MyDrive/SD_result_`date +%F_%T`.zip /content/stable-diffusion-webui/outputs/* "
      ],
      "metadata": {
        "id": "9Iq6wxp4LnZ4"
      },
      "execution_count": null,
      "outputs": []
    },
    {
      "cell_type": "code",
      "source": [
        "#@markdown ⚙️▶️💾 \n",
        "\n",
        "#@markdown Этот блок кода **сохранит** настройки последней геренации и ваши сохраненные промты на ваш google disk.\n",
        "from google.colab import drive\n",
        "drive.mount('/content/gdrive')\n",
        "!cp /content/stable-diffusion-webui/styles.csv /content/gdrive/MyDrive/styles.csv\n",
        "!cp /content/stable-diffusion-webui/params.txt /content/gdrive/MyDrive/params.txt"
      ],
      "metadata": {
        "id": "dm17yPY9TK5x",
        "cellView": "form"
      },
      "execution_count": null,
      "outputs": []
    },
    {
      "cell_type": "code",
      "source": [
        "#@markdown 💾▶️⚙️\n",
        "\n",
        "#@markdown Этот блок кода **загрузит** настройки последней геренации и ваши сохраненные промты с вашего \n",
        "from google.colab import drive\n",
        "drive.mount('/content/gdrive')\n",
        "!cp /content/gdrive/MyDrive/styles.csv /content/stable-diffusion-webui/styles.csv\n",
        "!cp /content/gdrive/MyDrive/params.txt /content/stable-diffusion-webui/params.txt"
      ],
      "metadata": {
        "id": "UgxlK5QRT0yw"
      },
      "execution_count": null,
      "outputs": []
    }
  ]
}