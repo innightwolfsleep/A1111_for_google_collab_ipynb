{
  "nbformat": 4,
  "nbformat_minor": 0,
  "metadata": {
    "colab": {
      "provenance": [],
      "authorship_tag": "ABX9TyNdLI71GNsiToF12OccWZHo",
      "include_colab_link": true
    },
    "kernelspec": {
      "name": "python3",
      "display_name": "Python 3"
    },
    "language_info": {
      "name": "python"
    }
  },
  "cells": [
    {
      "cell_type": "markdown",
      "metadata": {
        "id": "view-in-github",
        "colab_type": "text"
      },
      "source": [
        "<a href=\"https://colab.research.google.com/gist/innightwolfsleep/bccc9696603c7ca010e1f050da84a4f5/sd_nwlf.ipynb\" target=\"_parent\"><img src=\"https://colab.research.google.com/assets/colab-badge.svg\" alt=\"Open In Colab\"/></a>"
      ]
    },
    {
      "cell_type": "markdown",
      "source": [
        "1) INSTALL"
      ],
      "metadata": {
        "id": "iNvD53EnO7Qp"
      }
    },
    {
      "cell_type": "code",
      "execution_count": null,
      "metadata": {
        "id": "9DQbiOOZLTsM"
      },
      "outputs": [],
      "source": [
        "!pip install -q https://github.com/camenduru/stable-diffusion-webui-colab/releases/download/0.0.15/xformers-0.0.15+e163309.d20230103-cp38-cp38-linux_x86_64.whl\n",
        "!pip install -q --pre triton\n",
        "!git clone -b v1.6 https://github.com/camenduru/stable-diffusion-webui\n",
        "!git clone https://github.com/deforum-art/deforum-for-automatic1111-webui /content/stable-diffusion-webui/extensions/deforum-for-automatic1111-webui\n",
        "!git clone https://github.com/yfszzx/stable-diffusion-webui-images-browser /content/stable-diffusion-webui/extensions/stable-diffusion-webui-images-browser\n",
        "!git clone https://github.com/camenduru/stable-diffusion-webui-huggingface /content/stable-diffusion-webui/extensions/stable-diffusion-webui-huggingface\n",
        "!git clone https://github.com/Vetchems/sd-civitai-browser /content/stable-diffusion-webui/extensions/sd-civitai-browser\n",
        "%cd /content/stable-diffusion-webui"
      ]
    },
    {
      "cell_type": "markdown",
      "source": [
        "2) GET MODEL (do not try install all of then to not owerload VM)"
      ],
      "metadata": {
        "id": "cORWEtDvSJir"
      }
    },
    {
      "cell_type": "code",
      "source": [
        "# get model - SD2-inpaint:\n",
        "!wget https://huggingface.co/stabilityai/stable-diffusion-2-inpainting/resolve/main/512-inpainting-ema.ckpt -O /content/stable-diffusion-webui/models/Stable-diffusion/512-inpainting-ema.ckpt\n",
        "!wget https://raw.githubusercontent.com/Stability-AI/stablediffusion/main/configs/stable-diffusion/v2-inpainting-inference.yaml -O /content/stable-diffusion-webui/models/Stable-diffusion/512-inpainting-ema.yaml"
      ],
      "metadata": {
        "id": "hoJ_m7J1NrTO"
      },
      "execution_count": null,
      "outputs": []
    },
    {
      "cell_type": "code",
      "source": [
        "# get model - SD2.1-base:\n",
        "!wget https://huggingface.co/stabilityai/stable-diffusion-2-1-base/resolve/main/v2-1_512-ema-pruned.ckpt -O /content/stable-diffusion-webui/models/Stable-diffusion/v2-1_512-ema-pruned.ckpt\n",
        "!wget https://raw.githubusercontent.com/Stability-AI/stablediffusion/main/configs/stable-diffusion/v2-inference.yaml -O /content/stable-diffusion-webui/models/Stable-diffusion/v2-1_512-ema-pruned.yaml"
      ],
      "metadata": {
        "id": "fZ7GRvOyRgrw"
      },
      "execution_count": null,
      "outputs": []
    },
    {
      "cell_type": "code",
      "source": [
        "# get model - SD1.5-base:\n",
        "!wget https://huggingface.co/camenduru/sd15/resolve/main/v1-5-pruned-emaonly.ckpt -O /content/stable-diffusion-webui/models/Stable-diffusion/v1-5-pruned-emaonly.ckpt"
      ],
      "metadata": {
        "id": "2ZQl-iUmRoIt"
      },
      "execution_count": null,
      "outputs": []
    },
    {
      "cell_type": "code",
      "source": [
        "# get model - Protogen_V2.2:\n",
        "!wget https://huggingface.co/ckpt/Protogen_V2.2/resolve/main/Protogen_V2.2.ckpt -O /content/stable-diffusion-webui/models/Stable-diffusion/Protogen_V2.2.ckpt"
      ],
      "metadata": {
        "id": "vYtruzlfWAdr"
      },
      "execution_count": null,
      "outputs": []
    },
    {
      "cell_type": "code",
      "source": [
        "# get model - Anything-V3.0:\n",
        "!wget https://huggingface.co/Linaqruf/anything-v3.0/resolve/main/Anything-V3.0.safetensors -O /content/stable-diffusion-webui/models/Stable-diffusion/Anything-V3.0.safetensors\n",
        "!wget https://huggingface.co/Linaqruf/anything-v3.0/resolve/main/Anything-V3.0.vae.pt -O /content/stable-diffusion-webui/models/Stable-diffusion/Anything-V3.0-pruned.vae.pt"
      ],
      "metadata": {
        "id": "YSz2clX0MBim"
      },
      "execution_count": null,
      "outputs": []
    },
    {
      "cell_type": "code",
      "source": [
        "# get model - mdjrny-v4:\n",
        "!wget https://huggingface.co/prompthero/midjourney-v4-diffusion/resolve/main/mdjrny-v4.ckpt -O /content/stable-diffusion-webui/models/Stable-diffusion/mdjrny-v4.ckpt"
      ],
      "metadata": {
        "id": "hudqXW-CRIu2"
      },
      "execution_count": null,
      "outputs": []
    },
    {
      "cell_type": "code",
      "source": [
        "# get model - BloodOrangeMix:\n",
        "!wget https://huggingface.co/WarriorMama777/OrangeMixs/resolve/main/Models/BloodOrangeMix/BloodOrangeMix.safetensors -O /content/stable-diffusion-webui/models/Stable-diffusion/BloodOrangeMix.safetensors"
      ],
      "metadata": {
        "id": "B-kUYseDNZPo"
      },
      "execution_count": null,
      "outputs": []
    },
    {
      "cell_type": "code",
      "source": [
        "# get model - AbyssOrangeMix2_nsfw:\n",
        "!wget https://huggingface.co/WarriorMama777/OrangeMixs/resolve/main/Models/AbyssOrangeMix2/AbyssOrangeMix2_nsfw.safetensors -O /content/stable-diffusion-webui/models/Stable-diffusion/AbyssOrangeMix2_nsfw.safetensors"
      ],
      "metadata": {
        "id": "wdPPk179NZZ7"
      },
      "execution_count": null,
      "outputs": []
    },
    {
      "cell_type": "markdown",
      "source": [
        "3) RUN SD (wait until get \"**Running on shared URL:**\", then open thal link)"
      ],
      "metadata": {
        "id": "EuujLS4UPAR1"
      }
    },
    {
      "cell_type": "code",
      "source": [
        "!python launch.py --share --xformers"
      ],
      "metadata": {
        "id": "xUjUMqhoLnVq"
      },
      "execution_count": null,
      "outputs": []
    },
    {
      "cell_type": "markdown",
      "source": [
        "4) DOWNLOAD TO YOU GOOGLE DISK (you need to grant permission)"
      ],
      "metadata": {
        "id": "hFkodI8yPLDQ"
      }
    },
    {
      "cell_type": "code",
      "source": [
        "!zip -r /content/stable-diffusion-webui/outputs/txt2img-images\n",
        "from google.colab import drive\n",
        "drive.mount('/content/gdrive')\n",
        "!cp /content/stable-diffusion-webui/outputs/extras-images.zip /content/gdrive/MyDrive/SD_result_`date +%F_%T`.zip\n",
        "!cp /content/stable-diffusion-webui/outputs/extras-images.zip /content/gdrive/MyDrive/SD_result_`date +%F_%T`.zip\n"
      ],
      "metadata": {
        "id": "9Iq6wxp4LnZ4"
      },
      "execution_count": null,
      "outputs": []
    },
    {
      "cell_type": "markdown",
      "source": [
        "OPTIONAL: save or get your last param and styles.csv to/from google disk"
      ],
      "metadata": {
        "id": "mtRR7QZmTL6H"
      }
    },
    {
      "cell_type": "code",
      "source": [
        "# SAVE to GD\n",
        "!cp /content/stable-diffusion-webui/styles.csv /content/gdrive/MyDrive/styles.csv\n",
        "!cp /content/stable-diffusion-webui/params.txt /content/gdrive/MyDrive/params.txt"
      ],
      "metadata": {
        "id": "dm17yPY9TK5x"
      },
      "execution_count": null,
      "outputs": []
    },
    {
      "cell_type": "code",
      "source": [
        "# LOAD from GD\n",
        "!cp /content/gdrive/MyDrive/styles.csv /content/stable-diffusion-webui/styles.csv\n",
        "!cp /content/gdrive/MyDrive/params.txt /content/stable-diffusion-webui/params.txt"
      ],
      "metadata": {
        "id": "UgxlK5QRT0yw"
      },
      "execution_count": null,
      "outputs": []
    }
  ]
}
