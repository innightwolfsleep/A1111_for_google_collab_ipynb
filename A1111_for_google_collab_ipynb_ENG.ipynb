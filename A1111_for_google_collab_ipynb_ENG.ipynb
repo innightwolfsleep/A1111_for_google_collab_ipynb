{
  "nbformat": 4,
  "nbformat_minor": 0,
  "metadata": {
    "colab": {
      "provenance": [],
      "authorship_tag": "ABX9TyNsKzV+MoKpe1XoyhF5A5dM",
      "include_colab_link": true
    },
    "kernelspec": {
      "name": "python3",
      "display_name": "Python 3"
    },
    "language_info": {
      "name": "python"
    },
    "accelerator": "GPU",
    "gpuClass": "standard"
  },
  "cells": [
    {
      "cell_type": "markdown",
      "metadata": {
        "id": "view-in-github",
        "colab_type": "text"
      },
      "source": [
        "<a href=\"https://colab.research.google.com/github/innightwolfsleep/A1111_for_google_collab_ipynb/blob/main/A1111_for_google_collab_ipynb_ENG.ipynb\" target=\"_parent\"><img src=\"https://colab.research.google.com/assets/colab-badge.svg\" alt=\"Open In Colab\"/></a>"
      ]
    },
    {
      "cell_type": "code",
      "execution_count": null,
      "metadata": {
        "id": "9DQbiOOZLTsM"
      },
      "outputs": [],
      "source": [
        "#@markdown #SETTINGS\n",
        "\n",
        "#@markdown ⚙️ Save settings and pics to google-disk:\n",
        "Images_and_Settings_on_google_disk = True #@param {type:\"boolean\"}\n",
        "#@markdown 📁 StableDiffusion dir at google-disk:\n",
        "google_disk_path = \"SD\" #@param {type:\"string\"}\n",
        "\n",
        "\n",
        "# SET OUTPUT_DIR \n",
        "OUTPUT_DIR = \"/content/stable-diffusion-webui/outputs\" \n",
        "if Images_and_Settings_on_google_disk:\n",
        "    from google.colab import drive\n",
        "    drive.mount('/content/drive')\n",
        "    OUTPUT_DIR = \"/content/drive/MyDrive/\" + google_disk_path\n",
        "\n",
        "\n",
        "#@markdown \n",
        "\n",
        "#@markdown \n",
        "\n",
        "#@markdown #LAUNCH\n",
        "#@markdown 🤖Choose SD model:\n",
        "model = \"Anything_V3_0\" #@param [\"Protogen_V2_2\", \"SD2_inpaint\", \"SD2_1_base\", \"SD1_5_base\", \"Anything_V3_0\", \"mdjrny_v4\", \"BloodOrangeMix\", \"AbyssOrangeMix2_nsfw\"]\n",
        "\n",
        "#@markdown Press ▶️ left bottom to run StableDiffusion WebApi.\n",
        "\n",
        "#@markdown Wait 5-10 min until  \"**Running on public URL: https:\\/\\/????.gradio.app**\"\n",
        "\n",
        "#@markdown Open that **https:\\/\\/????.gradio.app**.\n",
        "\n",
        "#@markdown Profit!!!\n",
        "\n",
        "\n",
        "#INSTALL A1111 SD\n",
        "!pip install -q https://github.com/camenduru/stable-diffusion-webui-colab/releases/download/0.0.15/xformers-0.0.15+e163309.d20230103-cp38-cp38-linux_x86_64.whl\n",
        "!pip install -q --pre triton\n",
        "!git clone -b v1.6 https://github.com/camenduru/stable-diffusion-webui\n",
        "!git clone https://github.com/deforum-art/deforum-for-automatic1111-webui /content/stable-diffusion-webui/extensions/deforum-for-automatic1111-webui\n",
        "!git clone https://github.com/yfszzx/stable-diffusion-webui-images-browser /content/stable-diffusion-webui/extensions/stable-diffusion-webui-images-browser\n",
        "!git clone https://github.com/adieyal/sd-dynamic-prompts /content/stable-diffusion-webui/extensions/sd-dynamic-prompts\n",
        "\n",
        "# ⬇️⬇️⬇️ HERE YOU CAN PLACE ADDITIONAL EXTENSIONS FROM GITHUB \n",
        "#!git clone https://github.com/Vetchems/sd-civitai-browser /content/stable-diffusion-webui/extensions/sd-civitai-browser\n",
        "# ⬆️⬆️⬆️ HERE YOU CAN PLACE ADDITIONAL EXTENSIONS FROM GITHUB \n",
        "\n",
        "#LOAD MODEL\n",
        "!pip install -q wget\n",
        "import wget\n",
        "import os\n",
        "def load_sd_model(url):\n",
        "  if not os.path.exists(\"/content/stable-diffusion-webui/models/Stable-diffusion/\" + url.split(\"/\")[-1]):\n",
        "    print(\"Start downloading model: \" + url.split(\"/\")[-1])\n",
        "    wget.download(url, \"/content/stable-diffusion-webui/models/Stable-diffusion/\" + url.split(\"/\")[-1])\n",
        "    print(\"Download completed: \" + url.split(\"/\")[-1])\n",
        "  else:\n",
        "    print(\"Already downloaded model: \" + url.split(\"/\")[-1])\n",
        "\n",
        "if model==\"Protogen_V2_2\": load_sd_model(\"https://huggingface.co/ckpt/Protogen_V2.2/resolve/main/Protogen_V2.2.ckpt\")\n",
        "if model==\"SD2_inpaint\":\n",
        "  load_sd_model(\"https://huggingface.co/stabilityai/stable-diffusion-2-inpainting/resolve/main/512-inpainting-ema.ckpt\")\n",
        "  load_sd_model(\"https://raw.githubusercontent.com/Stability-AI/stablediffusion/main/configs/stable-diffusion/v2-inpainting-inference.yaml\")\n",
        "if model==\"SD2_1_base\":\n",
        "  load_sd_model(\"https://huggingface.co/stabilityai/stable-diffusion-2-1-base/resolve/main/v2-1_512-ema-pruned.ckpt\")\n",
        "  load_sd_model(\"https://raw.githubusercontent.com/Stability-AI/stablediffusion/main/configs/stable-diffusion/v2-inpainting-inference.yaml\")\n",
        "if model==\"SD1_5_base\": load_sd_model(\"https://huggingface.co/camenduru/sd15/resolve/main/v1-5-pruned-emaonly.ckpt\")\n",
        "if model==\"Anything_V3_0\":\n",
        "  load_sd_model(\"https://huggingface.co/Linaqruf/anything-v3.0/resolve/main/Anything-V3.0.safetensors\")\n",
        "  load_sd_model(\"https://huggingface.co/Linaqruf/anything-v3.0/resolve/main/Anything-V3.0.vae.pt\")\n",
        "if model==\"mdjrny_v4\": load_sd_model(\"https://huggingface.co/prompthero/midjourney-v4-diffusion/resolve/main/mdjrny-v4.ckpt\")\n",
        "if model==\"BloodOrangeMix\": load_sd_model(\"https://huggingface.co/WarriorMama777/OrangeMixs/resolve/main/Models/BloodOrangeMix/BloodOrangeMix.safetensors\")\n",
        "if model==\"AbyssOrangeMix2_nsfw\": load_sd_model(\"https://huggingface.co/WarriorMama777/OrangeMixs/resolve/main/Models/AbyssOrangeMix2/AbyssOrangeMix2_nsfw.safetensors\")\n",
        "        \n",
        "!mkdir -p $OUTPUT_DIR\n",
        "\n",
        "if Images_and_Settings_on_google_disk and not os.path.exists(OUTPUT_DIR + \"/config.json\") :\n",
        "    if not os.path.exists(OUTPUT_DIR + \"/config.json\"):\n",
        "        wget.download(\"https://raw.githubusercontent.com/innightwolfsleep/A1111_for_google_collab_ipynb/49e1aff0856cfda148f7f73161fb30df228dfd47/files/config.json\", OUTPUT_DIR + \"/config.json\")\n",
        "    with open(OUTPUT_DIR + \"/config.json\", \"r\") as fconf:\n",
        "        conf = fconf.read()\n",
        "    conf.replace('__OUTPUT_DIR__', OUTPUT_DIR)\n",
        "    with open(OUTPUT_DIR + \"/config.json\", \"w\") as fconf:\n",
        "        fconf.write(conf)\n",
        "\n",
        "# LAUNCH A1111\n",
        "%cd /content/stable-diffusion-webui\n",
        "!python launch.py --share --xformers --skip-torch-cuda-test --ui-settings-file $OUTPUT_DIR/config.json --styles-file $OUTPUT_DIR/styles.csv\n",
        "# IF NOT LAUNCH, TRY TO DELETE OWN $OUTPUT_DIR/config.json\n",
        "!echo \"IF NOT LAUNCH, TRY TO DELETE OWN $OUTPUT_DIR/config.json\""
      ]
    },
    {
      "cell_type": "markdown",
      "source": [
        "#ВСПОМОГАТЕЛЬНЫЕ ФУНКЦИИ: "
      ],
      "metadata": {
        "id": "15eyzQ98LM43"
      }
    },
    {
      "cell_type": "code",
      "source": [
        "#@markdown #СОХРАНИТЬ КАРТИНКИ\n",
        "\n",
        "\n",
        "#@markdown Если вы не выставили опцию сохранения на диск и теперь жалеете об этом, тот блок кода **сохранит изображения** в архив на ваш google disk сгенерированные вами изображения.\n",
        "google_disk_path = \"SD\" #@param {type:\"string\"}\n",
        "OUTPUT_DIR = \"/content/drive/MyDrive/\" + google_disk_path\n",
        "from google.colab import drive\n",
        "drive.mount('/content/gdrive')\n",
        "!zip -r /content/gdrive/MyDrive/$OUTPUT_DIR/`date +%F_%T`.zip /content/stable-diffusion-webui/outputs/* "
      ],
      "metadata": {
        "id": "9Iq6wxp4LnZ4",
        "cellView": "form"
      },
      "execution_count": null,
      "outputs": []
    },
    {
      "cell_type": "code",
      "source": [
        "#@markdown #СОХРАНИТЬ НАСТРОЙКИ\n",
        "\n",
        "#@markdown ⚙️Сохранит ваши настройки StableDiffusion на google-диске:\n",
        "\n",
        "google_disk_path = \"SD\" #@param {type:\"string\"}\n",
        "\n",
        "from google.colab import drive\n",
        "drive.mount('/content/drive')\n",
        "OUTPUT_DIR = \"/content/drive/MyDrive/\" + google_disk_path\n",
        "import shutil\n",
        "shutil.copyfile(\"/content/stable-diffusion-webui/styles.csv\", OUTPUT_DIR + \"/styles.csv\")\n",
        "shutil.copyfile(\"/content/stable-diffusion-webui/params.txt\", OUTPUT_DIR + \"/params.txt\")\n",
        "shutil.copyfile(\"/content/stable-diffusion-webui/config.json\", OUTPUT_DIR + \"/config.json\")"
      ],
      "metadata": {
        "cellView": "form",
        "id": "HI3VTR3sVx7N"
      },
      "execution_count": null,
      "outputs": []
    }
  ]
}