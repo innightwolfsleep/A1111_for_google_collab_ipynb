{
  "cells": [
    {
      "cell_type": "markdown",
      "metadata": {
        "id": "view-in-github",
        "colab_type": "text"
      },
      "source": [
        "<a href=\"https://colab.research.google.com/github/innightwolfsleep/A1111_for_google_collab_ipynb/blob/main/A1111_for_google_collab_ipynb_RUS.ipynb\" target=\"_parent\"><img src=\"https://colab.research.google.com/assets/colab-badge.svg\" alt=\"Open In Colab\"/></a>"
      ]
    },
    {
      "cell_type": "code",
      "execution_count": null,
      "metadata": {
        "cellView": "form",
        "colab": {
          "background_save": true
        },
        "id": "9DQbiOOZLTsM"
      },
      "outputs": [],
      "source": [
        "#@markdown #НАСТРОЙКА\n",
        "\n",
        "#@markdown ⚙️ Сохранять настройки и картинки на google-диске:\n",
        "Images_and_Settings_on_google_disk = True #@param {type:\"boolean\"}\n",
        "#@markdown 📁 Папка для StableDiffusion на google-диске:\n",
        "google_disk_path = \"SD\" #@param {type:\"string\"}\n",
        "\n",
        "\n",
        "# SET OUTPUT_DIR \n",
        "OUTPUT_DIR = \"/content/stable-diffusion-webui/outputs\" \n",
        "if Images_and_Settings_on_google_disk:\n",
        "    from google.colab import drive\n",
        "    drive.mount('/content/drive')\n",
        "    OUTPUT_DIR = \"/content/drive/MyDrive/\" + google_disk_path\n",
        "\n",
        "#@markdown \n",
        "\n",
        "#@markdown #ВЫБОР МОДЕЛИ\n",
        "#@markdown 🤖Выберете модель которую будете использовать в работе:\n",
        "model = \"SD1_5_base\" #@param [\"Protogen_V2_2\", \"SD2_inpaint\", \"SD2_1_base\", \"SD1_5_base\", \"Anything_V3_0\", \"mdjrny_v4\", \"BloodOrangeMix\", \"AbyssOrangeMix2_nsfw\", \"ProtoGen_X5.8_\", \"openjourney_v4\", \"Counterfeit-V2\", \"pastelmix-btr_\", \"anythg-midj-v4\", \"dreamlike-diff\", \"photorealistic\"]\n",
        "#@markdown или введите URL к файлу модели:\n",
        "model_URL = \"\" #@param {type:\"string\"}\n",
        "\n",
        "#@markdown \n",
        "\n",
        "#@markdown #ЗАПУСК\n",
        "#@markdown Нажмите иконку ▶️ слева вверху этого блока кода чтобы запустить приложение.\n",
        "\n",
        "#@markdown Дождитесь сообщения \"**Running on public URL: https:\\/\\/????.gradio.app**\"\n",
        "\n",
        "#@markdown Откройте появившуююся **https:\\/\\/????.gradio.app** соответсвующую ссылку.\n",
        "\n",
        "#@markdown В открывшейся веб-форме можно вводить свой запрос и кнопкой Generate создавать картинки.\n",
        "\n",
        "\n",
        "#INSTALL A1111 SD\n",
        "!pip install -q https://github.com/camenduru/stable-diffusion-webui-colab/releases/download/0.0.15/xformers-0.0.15+e163309.d20230103-cp38-cp38-linux_x86_64.whl\n",
        "!pip install -q --pre triton\n",
        "!git clone -b v1.6 https://github.com/camenduru/stable-diffusion-webui\n",
        "!git clone https://github.com/yfszzx/stable-diffusion-webui-images-browser /content/stable-diffusion-webui/extensions/stable-diffusion-webui-images-browser\n",
        "!git clone https://github.com/adieyal/sd-dynamic-prompts /content/stable-diffusion-webui/extensions/sd-dynamic-prompts\n",
        "\n",
        "# ⬇️⬇️⬇️ HERE YOU CAN PLACE ADDITIONAL EXTENSIONS FROM GITHUB \n",
        "#!git clone https://github.com/deforum-art/deforum-for-automatic1111-webui /content/stable-diffusion-webui/extensions/deforum-for-automatic1111-webui\n",
        "#!git clone https://github.com/Vetchems/sd-civitai-browser /content/stable-diffusion-webui/extensions/sd-civitai-browser\n",
        "# ⬆️⬆️⬆️ HERE YOU CAN PLACE ADDITIONAL EXTENSIONS FROM GITHUB \n",
        "\n",
        "#LOAD MODEL\n",
        "!pip install -q wget\n",
        "import wget\n",
        "import os\n",
        "def load_sd_model(url):\n",
        "  if not os.path.exists(\"/content/stable-diffusion-webui/models/Stable-diffusion/\" + url.split(\"/\")[-1]):\n",
        "    print(\"Start downloading model: \" + url.split(\"/\")[-1])\n",
        "    wget.download(url, \"/content/stable-diffusion-webui/models/Stable-diffusion/\" + url.split(\"/\")[-1])\n",
        "    print(\"Download completed: \" + url.split(\"/\")[-1])\n",
        "  else:\n",
        "    print(\"Already downloaded model: \" + url.split(\"/\")[-1])\n",
        "\n",
        "\n",
        "if model_URL.startswith(\"http\"):\n",
        "  load_sd_model(model_URL)\n",
        "else:\n",
        "  if model==\"Protogen_V2_2\": load_sd_model(\"https://huggingface.co/ckpt/Protogen_V2.2/resolve/main/Protogen_V2.2.ckpt\")\n",
        "  if model==\"SD2_inpaint\":\n",
        "    load_sd_model(\"https://huggingface.co/stabilityai/stable-diffusion-2-inpainting/resolve/main/512-inpainting-ema.ckpt\")\n",
        "    load_sd_model(\"https://raw.githubusercontent.com/Stability-AI/stablediffusion/main/configs/stable-diffusion/v2-inpainting-inference.yaml\")\n",
        "  if model==\"SD2_1_base\":\n",
        "    load_sd_model(\"https://huggingface.co/stabilityai/stable-diffusion-2-1-base/resolve/main/v2-1_512-ema-pruned.ckpt\")\n",
        "    load_sd_model(\"https://raw.githubusercontent.com/Stability-AI/stablediffusion/main/configs/stable-diffusion/v2-inpainting-inference.yaml\")\n",
        "  if model==\"SD1_5_base\": load_sd_model(\"https://huggingface.co/camenduru/sd15/resolve/main/v1-5-pruned-emaonly.ckpt\")\n",
        "  if model==\"mdjrny_v4\": load_sd_model(\"https://huggingface.co/prompthero/midjourney-v4-diffusion/resolve/main/mdjrny-v4.ckpt\")\n",
        "  if model==\"BloodOrangeMix\": load_sd_model(\"https://huggingface.co/WarriorMama777/OrangeMixs/resolve/main/Models/BloodOrangeMix/BloodOrangeMix.safetensors\")\n",
        "  if model==\"AbyssOrangeMix2_nsfw\": load_sd_model(\"https://huggingface.co/WarriorMama777/OrangeMixs/resolve/main/Models/AbyssOrangeMix2/AbyssOrangeMix2_nsfw.safetensors\")\n",
        "  if model==\"Anything_V3_0\":\n",
        "    load_sd_model(\"https://huggingface.co/Linaqruf/anything-v3.0/resolve/main/anything-v3-fp16-pruned.safetensors\")\n",
        "    load_sd_model(\"https://huggingface.co/Linaqruf/anything-v3.0/resolve/main/Anything-V3.0.vae.pt\")\n",
        "  if model==\"ProtoGen_X5.8_\": load_sd_model(\"https://huggingface.co/darkstorm2150/Protogen_x5.8_Official_Release/resolve/main/ProtoGen_X5.8-pruned-fp16.safetensors\")\n",
        "  if model==\"openjourney_v4\": load_sd_model(\"https://huggingface.co/prompthero/openjourney/resolve/main/mdjrny-v4.safetensors\")\n",
        "  if model==\"Counterfeit-V2\": load_sd_model(\"https://huggingface.co/gsdf/Counterfeit-V2.0/resolve/main/Counterfeit-V2.0fp16.safetensors\")\n",
        "  if model==\"pastelmix-btr_\": load_sd_model(\"https://huggingface.co/andite/pastel-mix/raw/main/pastelmix-better-vae-fp16.safetensors\")\n",
        "  if model==\"anythg-midj-v4\": load_sd_model(\"https://huggingface.co/Joeythemonster/anything-midjourney-v-4-1/resolve/main/ANYTHING_MIDJOURNEY_V_4.1.ckpt\")\n",
        "  if model==\"dreamlike-diff\": load_sd_model(\"https://huggingface.co/dreamlike-art/dreamlike-diffusion-1.0/resolve/main/dreamlike-diffusion-1.0.safetensors\")\n",
        "  if model==\"photorealistic\": load_sd_model(\"https://huggingface.co/claudfuen/photorealistic-fuen-v1/resolve/main/model.ckpt\")\n",
        "\n",
        "!mkdir -p $OUTPUT_DIR\n",
        "\n",
        "if Images_and_Settings_on_google_disk and not os.path.exists(OUTPUT_DIR + \"/config.json\") :\n",
        "    if not os.path.exists(OUTPUT_DIR + \"/config.json\"):\n",
        "        wget.download(\"https://raw.githubusercontent.com/innightwolfsleep/A1111_for_google_collab_ipynb/49e1aff0856cfda148f7f73161fb30df228dfd47/files/config.json\", OUTPUT_DIR + \"/config.json\")\n",
        "    with open(OUTPUT_DIR + \"/config.json\", \"r\") as fconf:\n",
        "        conf = fconf.read()\n",
        "    conf.replace('__OUTPUT_DIR__', OUTPUT_DIR)\n",
        "    with open(OUTPUT_DIR + \"/config.json\", \"w\") as fconf:\n",
        "        fconf.write(conf)\n",
        "\n",
        "# LAUNCH A1111\n",
        "%cd /content/stable-diffusion-webui\n",
        "!python launch.py --share --xformers --skip-torch-cuda-test --ui-settings-file $OUTPUT_DIR/config.json --styles-file $OUTPUT_DIR/styles.csv\n",
        "# IF NOT LAUNCH, TRY TO DELETE OWN $OUTPUT_DIR/config.json\n",
        "!echo \"IF NOT LAUNCH, TRY TO DELETE OWN $OUTPUT_DIR/config.json\""
      ]
    },
    {
      "cell_type": "markdown",
      "metadata": {
        "id": "15eyzQ98LM43"
      },
      "source": [
        "#ВСПОМОГАТЕЛЬНЫЕ ФУНКЦИИ: "
      ]
    },
    {
      "cell_type": "code",
      "execution_count": null,
      "metadata": {
        "cellView": "form",
        "id": "9Iq6wxp4LnZ4"
      },
      "outputs": [],
      "source": [
        "#@markdown #СОХРАНИТЬ КАРТИНКИ\n",
        "\n",
        "\n",
        "#@markdown Если вы не выставили опцию сохранения на диск и теперь жалеете об этом, тот блок кода **сохранит изображения** в архив на ваш google disk сгенерированные вами изображения.\n",
        "google_disk_path = \"SD\" #@param {type:\"string\"}\n",
        "OUTPUT_DIR = \"/content/drive/MyDrive/\" + google_disk_path\n",
        "from google.colab import drive\n",
        "drive.mount('/content/gdrive')\n",
        "!zip -r /content/gdrive/MyDrive/$OUTPUT_DIR/`date +%F_%T`.zip /content/stable-diffusion-webui/outputs/* "
      ]
    },
    {
      "cell_type": "code",
      "execution_count": null,
      "metadata": {
        "cellView": "form",
        "id": "HI3VTR3sVx7N"
      },
      "outputs": [],
      "source": [
        "#@markdown #СОХРАНИТЬ НАСТРОЙКИ\n",
        "\n",
        "#@markdown ⚙️Сохранит ваши настройки StableDiffusion на google-диске:\n",
        "\n",
        "google_disk_path = \"SD\" #@param {type:\"string\"}\n",
        "\n",
        "from google.colab import drive\n",
        "drive.mount('/content/drive')\n",
        "OUTPUT_DIR = \"/content/drive/MyDrive/\" + google_disk_path\n",
        "import shutil\n",
        "shutil.copyfile(\"/content/stable-diffusion-webui/styles.csv\", OUTPUT_DIR + \"/styles.csv\")\n",
        "shutil.copyfile(\"/content/stable-diffusion-webui/params.txt\", OUTPUT_DIR + \"/params.txt\")\n",
        "shutil.copyfile(\"/content/stable-diffusion-webui/config.json\", OUTPUT_DIR + \"/config.json\")"
      ]
    }
  ],
  "metadata": {
    "accelerator": "GPU",
    "colab": {
      "provenance": [],
      "authorship_tag": "ABX9TyPVgvc0oeEhVIHMRTulhoBi",
      "include_colab_link": true
    },
    "gpuClass": "standard",
    "kernelspec": {
      "display_name": "Python 3",
      "name": "python3"
    },
    "language_info": {
      "name": "python"
    }
  },
  "nbformat": 4,
  "nbformat_minor": 0
}